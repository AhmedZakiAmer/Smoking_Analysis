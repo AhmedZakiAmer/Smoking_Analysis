{
 "cells": [
  {
   "cell_type": "markdown",
   "metadata": {},
   "source": [
    "# Final Model"
   ]
  },
  {
   "cell_type": "markdown",
   "metadata": {},
   "source": [
    "Here the final best model based on all the past analysis and expiraments are implemented"
   ]
  },
  {
   "cell_type": "code",
   "execution_count": 71,
   "metadata": {},
   "outputs": [
    {
     "name": "stderr",
     "output_type": "stream",
     "text": [
      "C:\\Users\\ahmed\\AppData\\Local\\Temp\\ipykernel_16948\\762822019.py:11: MatplotlibDeprecationWarning: The seaborn styles shipped by Matplotlib are deprecated since 3.6, as they no longer correspond to the styles shipped by seaborn. However, they will remain available as 'seaborn-v0_8-<style>'. Alternatively, directly use the seaborn API instead.\n",
      "  plt.style.use('seaborn')\n"
     ]
    }
   ],
   "source": [
    "import numpy as np\n",
    "import pandas as pd\n",
    "import matplotlib.pyplot as plt\n",
    "import seaborn as sns\n",
    "\n",
    "from sklearn.model_selection import train_test_split\n",
    "from sklearn.metrics import accuracy_score, classification_report\n",
    "from sklearn.linear_model import LogisticRegression\n",
    "from sklearn.tree import DecisionTreeClassifier\n",
    "\n",
    "plt.style.use('seaborn')\n",
    "pd.set_option('display.max_columns', None)"
   ]
  },
  {
   "cell_type": "markdown",
   "metadata": {},
   "source": [
    "## Data imported and feature engineered"
   ]
  },
  {
   "cell_type": "code",
   "execution_count": 72,
   "metadata": {},
   "outputs": [
    {
     "data": {
      "text/html": [
       "<div>\n",
       "<style scoped>\n",
       "    .dataframe tbody tr th:only-of-type {\n",
       "        vertical-align: middle;\n",
       "    }\n",
       "\n",
       "    .dataframe tbody tr th {\n",
       "        vertical-align: top;\n",
       "    }\n",
       "\n",
       "    .dataframe thead th {\n",
       "        text-align: right;\n",
       "    }\n",
       "</style>\n",
       "<table border=\"1\" class=\"dataframe\">\n",
       "  <thead>\n",
       "    <tr style=\"text-align: right;\">\n",
       "      <th></th>\n",
       "      <th>id</th>\n",
       "      <th>ALT</th>\n",
       "      <th>HDL</th>\n",
       "      <th>weight(kg)</th>\n",
       "      <th>age</th>\n",
       "      <th>hemoglobin</th>\n",
       "      <th>height(cm)</th>\n",
       "      <th>Triglycerides</th>\n",
       "      <th>smoking</th>\n",
       "    </tr>\n",
       "  </thead>\n",
       "  <tbody>\n",
       "    <tr>\n",
       "      <th>114813</th>\n",
       "      <td>114813</td>\n",
       "      <td>0.317726</td>\n",
       "      <td>0.520196</td>\n",
       "      <td>0.503876</td>\n",
       "      <td>0.000000</td>\n",
       "      <td>0.534884</td>\n",
       "      <td>0.694444</td>\n",
       "      <td>0.323625</td>\n",
       "      <td>0.0</td>\n",
       "    </tr>\n",
       "    <tr>\n",
       "      <th>27288</th>\n",
       "      <td>27288</td>\n",
       "      <td>0.351171</td>\n",
       "      <td>0.422277</td>\n",
       "      <td>0.348837</td>\n",
       "      <td>0.648148</td>\n",
       "      <td>0.581395</td>\n",
       "      <td>0.277778</td>\n",
       "      <td>0.614887</td>\n",
       "      <td>1.0</td>\n",
       "    </tr>\n",
       "    <tr>\n",
       "      <th>115427</th>\n",
       "      <td>115427</td>\n",
       "      <td>0.869565</td>\n",
       "      <td>0.483476</td>\n",
       "      <td>0.581395</td>\n",
       "      <td>0.370370</td>\n",
       "      <td>0.627907</td>\n",
       "      <td>0.555556</td>\n",
       "      <td>0.420712</td>\n",
       "      <td>0.0</td>\n",
       "    </tr>\n",
       "  </tbody>\n",
       "</table>\n",
       "</div>"
      ],
      "text/plain": [
       "            id       ALT       HDL  weight(kg)       age  hemoglobin  \\\n",
       "114813  114813  0.317726  0.520196    0.503876  0.000000    0.534884   \n",
       "27288    27288  0.351171  0.422277    0.348837  0.648148    0.581395   \n",
       "115427  115427  0.869565  0.483476    0.581395  0.370370    0.627907   \n",
       "\n",
       "        height(cm)  Triglycerides  smoking  \n",
       "114813    0.694444       0.323625      0.0  \n",
       "27288     0.277778       0.614887      1.0  \n",
       "115427    0.555556       0.420712      0.0  "
      ]
     },
     "execution_count": 72,
     "metadata": {},
     "output_type": "execute_result"
    }
   ],
   "source": [
    "filename = 'output.csv'\n",
    "data = pd.read_csv(filename)\n",
    "data.rename(columns={data.columns[0]: \"id\"}, inplace=True) \n",
    "pd.set_option('display.max_columns', None) # To show all columns\n",
    "data.sample(3)"
   ]
  },
  {
   "cell_type": "code",
   "execution_count": 82,
   "metadata": {},
   "outputs": [],
   "source": [
    "# data.info()"
   ]
  },
  {
   "cell_type": "code",
   "execution_count": 81,
   "metadata": {},
   "outputs": [],
   "source": [
    "# data.isna().sum()"
   ]
  },
  {
   "cell_type": "code",
   "execution_count": 75,
   "metadata": {},
   "outputs": [
    {
     "name": "stderr",
     "output_type": "stream",
     "text": [
      "C:\\Users\\ahmed\\AppData\\Local\\Temp\\ipykernel_16948\\528596332.py:9: UserWarning: The figure layout has changed to tight\n",
      "  plt.tight_layout()\n",
      "C:\\Users\\ahmed\\AppData\\Local\\Temp\\ipykernel_16948\\528596332.py:9: UserWarning: The figure layout has changed to tight\n",
      "  plt.tight_layout()\n",
      "C:\\Users\\ahmed\\AppData\\Local\\Temp\\ipykernel_16948\\528596332.py:9: UserWarning: The figure layout has changed to tight\n",
      "  plt.tight_layout()\n",
      "C:\\Users\\ahmed\\AppData\\Local\\Temp\\ipykernel_16948\\528596332.py:9: UserWarning: The figure layout has changed to tight\n",
      "  plt.tight_layout()\n",
      "C:\\Users\\ahmed\\AppData\\Local\\Temp\\ipykernel_16948\\528596332.py:9: UserWarning: The figure layout has changed to tight\n",
      "  plt.tight_layout()\n",
      "C:\\Users\\ahmed\\AppData\\Local\\Temp\\ipykernel_16948\\528596332.py:9: UserWarning: The figure layout has changed to tight\n",
      "  plt.tight_layout()\n"
     ]
    },
    {
     "data": {
      "image/png": "[encoded data removed]",
      "text/plain": [
       "<Figure size 1200x1000 with 7 Axes>"
      ]
     },
     "metadata": {},
     "output_type": "display_data"
    }
   ],
   "source": [
    "numerical_cols = ['ALT', 'HDL', 'weight(kg)', 'age', 'hemoglobin', 'height(cm)', 'Triglycerides']\n",
    "# ['ALT', 'HDL', 'Cholesterol', 'weight(kg)', 'LDL', 'age', 'hearing(left)', 'waist(cm)', 'hemoglobin', 'height(cm)']\n",
    "\n",
    "plt.figure(figsize=(12, 10))\n",
    "for i, col in enumerate(numerical_cols, 1):\n",
    "    plt.subplot(5, 5, i)  \n",
    "    sns.boxplot(y=data[col])\n",
    "    plt.title(f'Boxplot of {col}')\n",
    "    plt.tight_layout()\n",
    "\n",
    "plt.show()"
   ]
  },
  {
   "cell_type": "code",
   "execution_count": 76,
   "metadata": {},
   "outputs": [],
   "source": [
    "# for col in data.select_dtypes(include=[np.number]).columns:\n",
    "#     Q1 = data[col].quantile(0.25)\n",
    "#     Q3 = data[col].quantile(0.75)\n",
    "#     IQR = Q3 - Q1\n",
    "#     upper_bound = Q3 + 1.8 * IQR\n",
    "#     lower_bound = Q1 - 1.5 * IQR\n",
    "#     outliers_below = data[data[col] < lower_bound].shape[0]\n",
    "#     outliers_above = data[data[col] > upper_bound].shape[0]\n",
    "#     if outliers_below + outliers_above > 500:\n",
    "#         # handle values above the upper bound\n",
    "#         data[col] = np.where(data[col] > upper_bound, upper_bound, data[col])\n",
    "#         # handle values below the lower bound\n",
    "#         data[col] = np.where(data[col] < lower_bound, lower_bound, data[col])\n",
    "#     else :\n",
    "#         upper_bound = Q3 + 1.6 * IQR\n",
    "#         lower_bound = Q1 - IQR\n",
    "#         data[col] = np.where(data[col] > upper_bound, upper_bound, data[col])\n",
    "#         data[col] = np.where(data[col] < lower_bound, lower_bound, data[col])"
   ]
  },
  {
   "cell_type": "code",
   "execution_count": 77,
   "metadata": {},
   "outputs": [
    {
     "data": {
      "text/html": [
       "<div>\n",
       "<style scoped>\n",
       "    .dataframe tbody tr th:only-of-type {\n",
       "        vertical-align: middle;\n",
       "    }\n",
       "\n",
       "    .dataframe tbody tr th {\n",
       "        vertical-align: top;\n",
       "    }\n",
       "\n",
       "    .dataframe thead th {\n",
       "        text-align: right;\n",
       "    }\n",
       "</style>\n",
       "<table border=\"1\" class=\"dataframe\">\n",
       "  <thead>\n",
       "    <tr style=\"text-align: right;\">\n",
       "      <th></th>\n",
       "      <th>id</th>\n",
       "      <th>ALT</th>\n",
       "      <th>HDL</th>\n",
       "      <th>weight(kg)</th>\n",
       "      <th>age</th>\n",
       "      <th>hemoglobin</th>\n",
       "      <th>height(cm)</th>\n",
       "      <th>Triglycerides</th>\n",
       "      <th>smoking</th>\n",
       "    </tr>\n",
       "  </thead>\n",
       "  <tbody>\n",
       "    <tr>\n",
       "      <th>count</th>\n",
       "      <td>159256.000000</td>\n",
       "      <td>159256.000000</td>\n",
       "      <td>159256.000000</td>\n",
       "      <td>159256.000000</td>\n",
       "      <td>159256.000000</td>\n",
       "      <td>159256.000000</td>\n",
       "      <td>159256.000000</td>\n",
       "      <td>159256.000000</td>\n",
       "      <td>159256.000000</td>\n",
       "    </tr>\n",
       "    <tr>\n",
       "      <th>mean</th>\n",
       "      <td>79627.500000</td>\n",
       "      <td>0.416780</td>\n",
       "      <td>0.481356</td>\n",
       "      <td>0.459125</td>\n",
       "      <td>0.359655</td>\n",
       "      <td>0.465996</td>\n",
       "      <td>0.427175</td>\n",
       "      <td>0.410905</td>\n",
       "      <td>0.437365</td>\n",
       "    </tr>\n",
       "    <tr>\n",
       "      <th>std</th>\n",
       "      <td>45973.391572</td>\n",
       "      <td>0.215998</td>\n",
       "      <td>0.169794</td>\n",
       "      <td>0.193544</td>\n",
       "      <td>0.214840</td>\n",
       "      <td>0.162030</td>\n",
       "      <td>0.238272</td>\n",
       "      <td>0.207706</td>\n",
       "      <td>0.496063</td>\n",
       "    </tr>\n",
       "    <tr>\n",
       "      <th>min</th>\n",
       "      <td>0.000000</td>\n",
       "      <td>0.000000</td>\n",
       "      <td>0.000000</td>\n",
       "      <td>0.000000</td>\n",
       "      <td>0.000000</td>\n",
       "      <td>0.000000</td>\n",
       "      <td>0.000000</td>\n",
       "      <td>0.000000</td>\n",
       "      <td>0.000000</td>\n",
       "    </tr>\n",
       "    <tr>\n",
       "      <th>25%</th>\n",
       "      <td>39813.750000</td>\n",
       "      <td>0.250836</td>\n",
       "      <td>0.348837</td>\n",
       "      <td>0.348837</td>\n",
       "      <td>0.277778</td>\n",
       "      <td>0.348837</td>\n",
       "      <td>0.277778</td>\n",
       "      <td>0.242718</td>\n",
       "      <td>0.000000</td>\n",
       "    </tr>\n",
       "    <tr>\n",
       "      <th>50%</th>\n",
       "      <td>79627.500000</td>\n",
       "      <td>0.351171</td>\n",
       "      <td>0.458996</td>\n",
       "      <td>0.426357</td>\n",
       "      <td>0.277778</td>\n",
       "      <td>0.488372</td>\n",
       "      <td>0.416667</td>\n",
       "      <td>0.372168</td>\n",
       "      <td>0.000000</td>\n",
       "    </tr>\n",
       "    <tr>\n",
       "      <th>75%</th>\n",
       "      <td>119441.250000</td>\n",
       "      <td>0.518395</td>\n",
       "      <td>0.581395</td>\n",
       "      <td>0.581395</td>\n",
       "      <td>0.555556</td>\n",
       "      <td>0.581395</td>\n",
       "      <td>0.555556</td>\n",
       "      <td>0.533981</td>\n",
       "      <td>1.000000</td>\n",
       "    </tr>\n",
       "    <tr>\n",
       "      <th>max</th>\n",
       "      <td>159255.000000</td>\n",
       "      <td>1.000000</td>\n",
       "      <td>1.000000</td>\n",
       "      <td>1.000000</td>\n",
       "      <td>1.000000</td>\n",
       "      <td>1.000000</td>\n",
       "      <td>1.000000</td>\n",
       "      <td>1.000000</td>\n",
       "      <td>1.000000</td>\n",
       "    </tr>\n",
       "  </tbody>\n",
       "</table>\n",
       "</div>"
      ],
      "text/plain": [
       "                  id            ALT            HDL     weight(kg)  \\\n",
       "count  159256.000000  159256.000000  159256.000000  159256.000000   \n",
       "mean    79627.500000       0.416780       0.481356       0.459125   \n",
       "std     45973.391572       0.215998       0.169794       0.193544   \n",
       "min         0.000000       0.000000       0.000000       0.000000   \n",
       "25%     39813.750000       0.250836       0.348837       0.348837   \n",
       "50%     79627.500000       0.351171       0.458996       0.426357   \n",
       "75%    119441.250000       0.518395       0.581395       0.581395   \n",
       "max    159255.000000       1.000000       1.000000       1.000000   \n",
       "\n",
       "                 age     hemoglobin     height(cm)  Triglycerides  \\\n",
       "count  159256.000000  159256.000000  159256.000000  159256.000000   \n",
       "mean        0.359655       0.465996       0.427175       0.410905   \n",
       "std         0.214840       0.162030       0.238272       0.207706   \n",
       "min         0.000000       0.000000       0.000000       0.000000   \n",
       "25%         0.277778       0.348837       0.277778       0.242718   \n",
       "50%         0.277778       0.488372       0.416667       0.372168   \n",
       "75%         0.555556       0.581395       0.555556       0.533981   \n",
       "max         1.000000       1.000000       1.000000       1.000000   \n",
       "\n",
       "             smoking  \n",
       "count  159256.000000  \n",
       "mean        0.437365  \n",
       "std         0.496063  \n",
       "min         0.000000  \n",
       "25%         0.000000  \n",
       "50%         0.000000  \n",
       "75%         1.000000  \n",
       "max         1.000000  "
      ]
     },
     "execution_count": 77,
     "metadata": {},
     "output_type": "execute_result"
    }
   ],
   "source": [
    "data.describe()"
   ]
  },
  {
   "cell_type": "code",
   "execution_count": 78,
   "metadata": {},
   "outputs": [
    {
     "name": "stdout",
     "output_type": "stream",
     "text": [
      "Features shape: (159256, 7)\n",
      "Target shape: (159256,)\n"
     ]
    }
   ],
   "source": [
    "X = data.drop(['id', 'smoking'], axis=1)\n",
    "y = data['smoking']  \n",
    "print(\"Features shape:\", X.shape)\n",
    "print(\"Target shape:\", y.shape)\n"
   ]
  },
  {
   "cell_type": "markdown",
   "metadata": {},
   "source": [
    "## Data split"
   ]
  },
  {
   "cell_type": "code",
   "execution_count": 79,
   "metadata": {},
   "outputs": [
    {
     "name": "stdout",
     "output_type": "stream",
     "text": [
      "Train shape: (95553, 7) (95553,)\n",
      "Validation shape: (31851, 7) (31851,)\n",
      "Test shape: (31852, 7) (31852,)\n"
     ]
    }
   ],
   "source": [
    "X_train, X_temp, y_train, y_temp = train_test_split(\n",
    "    X, y,\n",
    "    test_size=0.4,   \n",
    "    random_state=42,\n",
    "    stratify=y       \n",
    ")\n",
    "\n",
    "X_val, X_test, y_val, y_test = train_test_split(\n",
    "    X_temp, y_temp,\n",
    "    test_size=0.5,   \n",
    "    random_state=42,\n",
    "    stratify=y_temp  \n",
    ")\n",
    "\n",
    "print(\"Train shape:\", X_train.shape, y_train.shape)\n",
    "print(\"Validation shape:\", X_val.shape, y_val.shape)\n",
    "print(\"Test shape:\", X_test.shape, y_test.shape)"
   ]
  },
  {
   "cell_type": "markdown",
   "metadata": {},
   "source": [
    "## Main model"
   ]
  },
  {
   "cell_type": "code",
   "execution_count": 80,
   "metadata": {},
   "outputs": [
    {
     "name": "stdout",
     "output_type": "stream",
     "text": [
      "Accuracy: 0.7455732764033656\n",
      "Classification Report:\n",
      "               precision    recall  f1-score   support\n",
      "\n",
      "         0.0       0.81      0.71      0.76     17921\n",
      "         1.0       0.68      0.79      0.73     13931\n",
      "\n",
      "    accuracy                           0.75     31852\n",
      "   macro avg       0.75      0.75      0.74     31852\n",
      "weighted avg       0.75      0.75      0.75     31852\n",
      "\n"
     ]
    }
   ],
   "source": [
    "def bagging(X_train, y_train, X_test, n_estimators=250, max_samples_ratio=0.4, random_state=42):\n",
    "    np.random.seed(random_state)\n",
    "    \n",
    "    X_train_np = X_train.values if isinstance(X_train, pd.DataFrame) else X_train\n",
    "    y_train_np = y_train.values if isinstance(y_train, pd.Series) else y_train\n",
    "    X_test_np  = X_test.values if isinstance(X_test, pd.DataFrame) else X_test\n",
    "    \n",
    "    n_samples = X_train_np.shape[0]\n",
    "    max_samples = int(max_samples_ratio * n_samples)\n",
    "    \n",
    "    estimators = []\n",
    "    \n",
    "    for i in range(n_estimators):\n",
    "        indices = np.random.choice(n_samples, size=max_samples, replace=True)\n",
    "        X_bootstrap = X_train_np[indices]\n",
    "        y_bootstrap = y_train_np[indices]\n",
    "        \n",
    "        tree = DecisionTreeClassifier(random_state=random_state + i)\n",
    "        tree.fit(X_bootstrap, y_bootstrap)\n",
    "        estimators.append(tree)\n",
    "    \n",
    "    preds = []\n",
    "    for tree in estimators:\n",
    "        p = tree.predict(X_test_np)\n",
    "        preds.append(p)\n",
    "    \n",
    "    preds = np.array(preds).T \n",
    "    \n",
    "    final_predictions = []\n",
    "    for row in preds:\n",
    "        vals, counts = np.unique(row, return_counts=True)\n",
    "        majority_vote = vals[np.argmax(counts)]\n",
    "        final_predictions.append(majority_vote)\n",
    "    \n",
    "    return np.array(final_predictions)\n",
    "\n",
    "y_pred_bag = bagging(X_train, y_train, X_test)\n",
    "acc_bag = accuracy_score(y_test, y_pred_bag)\n",
    "\n",
    "print(\"Accuracy:\", acc_bag)\n",
    "print(\"Classification Report:\\n\", classification_report(y_test, y_pred_bag))\n"
   ]
  }
 ],
 "metadata": {
  "kernelspec": {
   "display_name": "Python 3",
   "language": "python",
   "name": "python3"
  },
  "language_info": {
   "codemirror_mode": {
    "name": "ipython",
    "version": 3
   },
   "file_extension": ".py",
   "mimetype": "text/x-python",
   "name": "python",
   "nbconvert_exporter": "python",
   "pygments_lexer": "ipython3",
   "version": "3.11.1"
  }
 },
 "nbformat": 4,
 "nbformat_minor": 2
}
